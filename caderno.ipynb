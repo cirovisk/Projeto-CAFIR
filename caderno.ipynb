{
 "cells": [
  {
   "cell_type": "markdown",
   "metadata": {},
   "source": [
    "## CAFIR\n",
    "\n",
    "CAFIR significa Cadastro de Imóveis Rurais. Através do site de [dados abertos do Governo Federal](https://dados.gov.br/home) é possível obter vários dados relacionados a tais imóveis, com exceção de informações protegidas pela Lei Geral de Proteção de Dados.\n",
    "\n",
    "### Scraping\n",
    "\n",
    "Para obtenção dos [dados](https://dadosabertos.rfb.gov.br/CAFIR/) será utilizado o arquivo na pasta Scripts chamado [scrap_csv.py](Scripts/scrap_csv.py), o qual irá baixar os CSVs referentes a dados Estaduais e os unirá em um único CSV.\n",
    "\n",
    "### Limpeza de dados\n",
    "\n",
    "O arquivo CSV resultante tem uma divisão fixa para o tamanho de cada coluna, muitos caracteres em brancos, datas com formato não padronizado e caracteres não-alfanuméricos, então é importante fazer uma \"higiene\" para facilitar sua inserção em bancos de dados e a visualização de seus dados.\n",
    "O layout do CSV pode ser consultado também no site de [dados abertos](https://dadosabertos.rfb.gov.br/CAFIR/Layout%20Campos%20Dados%20Abertos%20Cafir.pdf), o qual utilizei como parâmetro para trocar o tamanho fixo de coluna por separadores. \n",
    "Para a limpeza dos dados foi utilizado o script [clean_csv.py](Scripts/clean_csv.py).\n",
    "O resultado foi uma diminuição de quase 50% no tamanho do arquivo, que ajuda a diminuir o tempo para as queries futuras.\n",
    "\n",
    "### SQL\n",
    "\n",
    "Para analisar um volume tão grandes de dados é mais eficiente a utilização de um sistema de bancos de dados SQL, nesse caso em específico o Microsoft SQL. A tabela foi criada com base no layout fornecido [aqui](https://dadosabertos.rfb.gov.br/CAFIR/Layout%20Campos%20Dados%20Abertos%20Cafir.pdf). \n",
    "\n",
    "### Python\n",
    "Serão necessárias as seguintes bibliotecas nesse projeto: Numpy, Pandas, Matplotlib, seaborn e pypyodbc. Abaixo está o comando para instalá-los.\n"
   ]
  },
  {
   "cell_type": "code",
   "execution_count": 1,
   "metadata": {},
   "outputs": [
    {
     "name": "stdout",
     "output_type": "stream",
     "text": [
      "Requirement already satisfied: numpy in c:\\users\\ciro\\appdata\\local\\programs\\python\\python312\\lib\\site-packages (1.26.2)\n",
      "Requirement already satisfied: pandas in c:\\users\\ciro\\appdata\\local\\programs\\python\\python312\\lib\\site-packages (2.1.3)\n",
      "Requirement already satisfied: matplotlib in c:\\users\\ciro\\appdata\\local\\programs\\python\\python312\\lib\\site-packages (3.8.2)\n",
      "Requirement already satisfied: seaborn in c:\\users\\ciro\\appdata\\local\\programs\\python\\python312\\lib\\site-packages (0.13.0)\n",
      "Requirement already satisfied: pypyodbc in c:\\users\\ciro\\appdata\\local\\programs\\python\\python312\\lib\\site-packages (1.3.6)\n",
      "Requirement already satisfied: python-dateutil>=2.8.2 in c:\\users\\ciro\\appdata\\local\\programs\\python\\python312\\lib\\site-packages (from pandas) (2.8.2)\n",
      "Requirement already satisfied: pytz>=2020.1 in c:\\users\\ciro\\appdata\\local\\programs\\python\\python312\\lib\\site-packages (from pandas) (2023.3.post1)\n",
      "Requirement already satisfied: tzdata>=2022.1 in c:\\users\\ciro\\appdata\\local\\programs\\python\\python312\\lib\\site-packages (from pandas) (2023.3)\n",
      "Requirement already satisfied: contourpy>=1.0.1 in c:\\users\\ciro\\appdata\\local\\programs\\python\\python312\\lib\\site-packages (from matplotlib) (1.2.0)\n",
      "Requirement already satisfied: cycler>=0.10 in c:\\users\\ciro\\appdata\\local\\programs\\python\\python312\\lib\\site-packages (from matplotlib) (0.12.1)\n",
      "Requirement already satisfied: fonttools>=4.22.0 in c:\\users\\ciro\\appdata\\local\\programs\\python\\python312\\lib\\site-packages (from matplotlib) (4.45.1)\n",
      "Requirement already satisfied: kiwisolver>=1.3.1 in c:\\users\\ciro\\appdata\\local\\programs\\python\\python312\\lib\\site-packages (from matplotlib) (1.4.5)\n",
      "Requirement already satisfied: packaging>=20.0 in c:\\users\\ciro\\appdata\\local\\programs\\python\\python312\\lib\\site-packages (from matplotlib) (23.2)\n",
      "Requirement already satisfied: pillow>=8 in c:\\users\\ciro\\appdata\\local\\programs\\python\\python312\\lib\\site-packages (from matplotlib) (10.1.0)\n",
      "Requirement already satisfied: pyparsing>=2.3.1 in c:\\users\\ciro\\appdata\\local\\programs\\python\\python312\\lib\\site-packages (from matplotlib) (3.1.1)\n",
      "Requirement already satisfied: setuptools in c:\\users\\ciro\\appdata\\local\\programs\\python\\python312\\lib\\site-packages (from pypyodbc) (69.0.2)\n",
      "Requirement already satisfied: six>=1.5 in c:\\users\\ciro\\appdata\\local\\programs\\python\\python312\\lib\\site-packages (from python-dateutil>=2.8.2->pandas) (1.16.0)\n",
      "Note: you may need to restart the kernel to use updated packages.\n"
     ]
    },
    {
     "name": "stderr",
     "output_type": "stream",
     "text": [
      "DEPRECATION: Loading egg at c:\\users\\ciro\\appdata\\local\\programs\\python\\python312\\lib\\site-packages\\vboxapi-1.0-py3.12.egg is deprecated. pip 25.1 will enforce this behaviour change. A possible replacement is to use pip for package installation. Discussion can be found at https://github.com/pypa/pip/issues/12330\n"
     ]
    }
   ],
   "source": [
    "pip install numpy pandas matplotlib seaborn pypyodbc"
   ]
  },
  {
   "cell_type": "markdown",
   "metadata": {},
   "source": [
    "Para começar, será testada a conexão com o servidor SQL na tabela CSVs_unidos que contém os dados do CAFIR"
   ]
  },
  {
   "cell_type": "code",
   "execution_count": 2,
   "metadata": {},
   "outputs": [
    {
     "name": "stdout",
     "output_type": "stream",
     "text": [
      "9987664\n"
     ]
    }
   ],
   "source": [
    "import pypyodbc as odbc\n",
    "\n",
    "DRIVER_NAME = 'SQL SERVER'\n",
    "SERVER_NAME = r'DESKTOP-5V1VIGP\\SQLEXPRESS'\n",
    "DATABASE = 'Projeto CAFIR'\n",
    "USERNAME = 'dbo'\n",
    "\n",
    "connection_string = f\"\"\"\n",
    "    DRIVER={{{DRIVER_NAME}}};\n",
    "    SERVER={SERVER_NAME};\n",
    "    DATABASE={DATABASE};\n",
    "    UID={USERNAME};\n",
    "    Trusted_Connection=yes;\n",
    "\"\"\"\n",
    "\n",
    "conn = odbc.connect(connection_string)\n",
    "cursor = conn.cursor()\n",
    "\n",
    "# Verificação da conexão\n",
    "cursor.execute(\"SELECT COUNT(*) FROM CSVs_unidos;\")\n",
    "row = cursor.fetchone()\n",
    "print(row[0])\n",
    "\n",
    "conn.close()"
   ]
  },
  {
   "cell_type": "markdown",
   "metadata": {},
   "source": [
    "## Análise sobre os dados \n",
    "\n",
    "### 1 - \n",
    "Buscando uma informação básica, realizei a soma de todos hectares dos imóveis ruras disponíveis no banco de dados."
   ]
  },
  {
   "cell_type": "code",
   "execution_count": 4,
   "metadata": {},
   "outputs": [
    {
     "name": "stdout",
     "output_type": "stream",
     "text": [
      "A soma da área total dos imóveis é 25534799544 hectares\n"
     ]
    }
   ],
   "source": [
    "import pypyodbc as odbc\n",
    "\n",
    "DRIVER_NAME = 'SQL SERVER'\n",
    "SERVER_NAME = r'DESKTOP-5V1VIGP\\SQLEXPRESS'\n",
    "DATABASE = 'Projeto CAFIR'\n",
    "USERNAME = 'dbo'\n",
    "\n",
    "connection_string = f\"\"\"\n",
    "    DRIVER={{{DRIVER_NAME}}};\n",
    "    SERVER={SERVER_NAME};\n",
    "    DATABASE={DATABASE};\n",
    "    UID={USERNAME};\n",
    "    Trusted_Connection=yes;\n",
    "\"\"\"\n",
    "\n",
    "conn = odbc.connect(connection_string)\n",
    "cursor = conn.cursor()\n",
    "\n",
    "cursor.execute(\n",
    "    \"SELECT SUM([Área total do imóvel (em hectares)])\"\n",
    "    \"FROM [Projeto CAFIR].[dbo].[CSVs_unidos]\"\n",
    ")\n",
    "sum = int(cursor.fetchone()[0])\n",
    "\n",
    "print(f'A soma da área total dos imóveis é {sum} hectares')\n",
    "conn.close()"
   ]
  },
  {
   "cell_type": "markdown",
   "metadata": {},
   "source": [
    "Porém o valor da soma, 25.534.799.544 hectares, é maior do que o território brasileiro, que possui cerca de 833.721.800 Hectares segundo o [IBGE](https://agenciadenoticias.ibge.gov.br/agencia-sala-de-imprensa/2013-agencia-de-noticias/releases/14318-asi-ibge-apresenta-nova-area-territorial-brasileira-8515767049-km). Portanto é seguro assumir que há registros que contam o mesmo território. Para continuar a investigação, será investigado quantas entradas estão duplicadas. O NIRF por definição na minha DB é um número único por entrada, mas para conferir, foi realizada a segunda pesquisa:"
   ]
  },
  {
   "cell_type": "code",
   "execution_count": 5,
   "metadata": {},
   "outputs": [
    {
     "name": "stdout",
     "output_type": "stream",
     "text": [
      "None\n"
     ]
    }
   ],
   "source": [
    "import pypyodbc as odbc\n",
    "\n",
    "DRIVER_NAME = 'SQL SERVER'\n",
    "SERVER_NAME = r'DESKTOP-5V1VIGP\\SQLEXPRESS'\n",
    "DATABASE = 'Projeto CAFIR'\n",
    "USERNAME = 'dbo'\n",
    "\n",
    "connection_string = f\"\"\"\n",
    "    DRIVER={{{DRIVER_NAME}}};\n",
    "    SERVER={SERVER_NAME};\n",
    "    DATABASE={DATABASE};\n",
    "    UID={USERNAME};\n",
    "    Trusted_Connection=yes;\n",
    "\"\"\"\n",
    "\n",
    "conn = odbc.connect(connection_string)\n",
    "cursor = conn.cursor()\n",
    "\n",
    "cursor.execute(\n",
    "    \"SELECT [NIRF - Número do imóvel na Receita Federal]\"\n",
    "    \", count(*)\"\n",
    "    \"FROM [Projeto CAFIR].[dbo].[CSVs_unidos]\"\n",
    "    \"GROUP BY [NIRF - Número do imóvel na Receita Federal]\"\n",
    "    \"HAVING COUNT(*) > 1\"\n",
    ")\n",
    "distinct = cursor.fetchone()\n",
    "\n",
    "print(distinct)\n",
    "conn.close()"
   ]
  },
  {
   "cell_type": "markdown",
   "metadata": {},
   "source": [
    "Como esperado, não há duplicatas. Então é necessário por outro parâmetro de identificação, que é o código do imóvel no INCRA. Para não ficar muito extenso, nesse caderno mostrarei só as primeiras 20 linhas de resultados."
   ]
  },
  {
   "cell_type": "code",
   "execution_count": 7,
   "metadata": {},
   "outputs": [
    {
     "name": "stdout",
     "output_type": "stream",
     "text": [
      "Número do INCRA: - Quantidade de duplicatas: 6337711\n",
      "Número do INCRA:0000193771980 - Quantidade de duplicatas: 2\n",
      "Número do INCRA:0000271103450 - Quantidade de duplicatas: 2\n",
      "Número do INCRA:0000353450166 - Quantidade de duplicatas: 2\n",
      "Número do INCRA:0000435650082 - Quantidade de duplicatas: 2\n",
      "Número do INCRA:0000600479709 - Quantidade de duplicatas: 2\n",
      "Número do INCRA:0000600951092 - Quantidade de duplicatas: 2\n",
      "Número do INCRA:0000601952513 - Quantidade de duplicatas: 3\n",
      "Número do INCRA:0010400372220 - Quantidade de duplicatas: 2\n",
      "Número do INCRA:0010400524691 - Quantidade de duplicatas: 2\n",
      "Número do INCRA:0011041287910 - Quantidade de duplicatas: 2\n",
      "Número do INCRA:0011121522502 - Quantidade de duplicatas: 2\n",
      "Número do INCRA:0011710046346 - Quantidade de duplicatas: 2\n",
      "Número do INCRA:0240230178179 - Quantidade de duplicatas: 3\n",
      "Número do INCRA:0450980214821 - Quantidade de duplicatas: 3\n",
      "Número do INCRA:0480380537836 - Quantidade de duplicatas: 2\n",
      "Número do INCRA:0480620001165 - Quantidade de duplicatas: 6\n",
      "Número do INCRA:0480700046348 - Quantidade de duplicatas: 2\n",
      "Número do INCRA:0531120074208 - Quantidade de duplicatas: 2\n",
      "Número do INCRA:1050740021274 - Quantidade de duplicatas: 2\n"
     ]
    }
   ],
   "source": [
    "import pypyodbc as odbc\n",
    "\n",
    "DRIVER_NAME = 'SQL SERVER'\n",
    "SERVER_NAME = r'DESKTOP-5V1VIGP\\SQLEXPRESS'\n",
    "DATABASE = 'Projeto CAFIR'\n",
    "USERNAME = 'dbo'\n",
    "\n",
    "connection_string = f\"\"\"\n",
    "    DRIVER={{{DRIVER_NAME}}};\n",
    "    SERVER={SERVER_NAME};\n",
    "    DATABASE={DATABASE};\n",
    "    UID={USERNAME};\n",
    "    Trusted_Connection=yes;\n",
    "\"\"\"\n",
    "\n",
    "conn = odbc.connect(connection_string)\n",
    "cursor = conn.cursor()\n",
    "\n",
    "cursor.execute(\n",
    "    \"SELECT TOP 20 [Código do imóvel no Incra], COUNT(*) \"\n",
    "    \"FROM [Projeto CAFIR].[dbo].[CSVs_unidos] \"\n",
    "    \"GROUP BY [Código do imóvel no Incra] \"\n",
    "    \"HAVING COUNT(*) > 1 \"\n",
    "    \"ORDER BY [Código do imóvel no Incra]\"\n",
    ")\n",
    "\n",
    "rows = cursor.fetchall()\n",
    "\n",
    "for row in rows:\n",
    "    print(f'Número do INCRA:{row[0]} - Quantidade de duplicatas: {row[1]}')\n",
    "\n",
    "conn.close()"
   ]
  },
  {
   "cell_type": "markdown",
   "metadata": {},
   "source": [
    "Como é possível ver, há vários (6.337.711) imóveis sem cadastro no INCRA e pelo menos algumas duplicatas. Isso não deveria ser possível, mas é possível que os dados:\n",
    "- Foram cadastrados erroneamente\n",
    "- Não houve padronização na integração entre o sistema do CAFIR e do INCRA\n",
    "- Há cadastro de propriedades sobrepostas, pois em regiões onde não há regularização fundiária plena, diferentes proprietários podem registrar o mesmo imóvel ou partes sobrepostas.\n",
    "- O imóvel não possui cadastro no INCRA, o que implica em:\n",
    "    - O imóvel pode estar registrado apenas para fins fiscais (imposto sobre a propriedade rural - ITR), mas nunca foi cadastrado no Sistema Nacional de Cadastro Rural (SNCR) do INCRA. O imóvel não terá um CCIR (Certificado de Cadastro de Imóvel Rural), que é obrigatório para várias operações legais, como compra, venda, hipoteca e regularização fundiária e também terá dificuldade em acessar programas de crédito rural ou outros benefícios que exigem o cadastro no INCRA.\n",
    "    - Propriedade em áreas urbanas ou transição rural-urbana: O imóvel pode estar situado em uma área que foi convertida para zona urbana, mas permanece cadastrado no CAFIR para fins tributários. Nesse caso, o imóvel pode não ser mais exigido no SNCR (INCRA).\n",
    "    - Pequenos imóveis rurais sem obrigatoriedade de cadastro no INCRA: Imóveis com áreas muito pequenas ou propriedades familiares podem não ter sido cadastrados no INCRA, especialmente se o proprietário não solicitou o CCIR. Isso ocorre com frequência em áreas onde o controle fundiário é menos rigoroso. Embora não seja exigido para pequenos imóveis em algumas circunstâncias, a ausência do cadastro no INCRA pode dificultar a regularização ou a transferência do imóvel no futuro.\n",
    "    - Cadastro desatualizado ou em processo: O imóvel pode estar em processo de cadastro ou atualização no INCRA, mas já foi registrado no CAFIR para fins de tributação. Isso pode ocorrer quando o proprietário prioriza o cumprimento de obrigações fiscais antes de regularizar o cadastro fundiário.\n"
   ]
  }
 ],
 "metadata": {
  "kernelspec": {
   "display_name": "Python 3",
   "language": "python",
   "name": "python3"
  },
  "language_info": {
   "codemirror_mode": {
    "name": "ipython",
    "version": 3
   },
   "file_extension": ".py",
   "mimetype": "text/x-python",
   "name": "python",
   "nbconvert_exporter": "python",
   "pygments_lexer": "ipython3",
   "version": "3.12.1"
  }
 },
 "nbformat": 4,
 "nbformat_minor": 2
}
